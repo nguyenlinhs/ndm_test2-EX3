{
  "nbformat": 4,
  "nbformat_minor": 0,
  "metadata": {
    "colab": {
      "provenance": [],
      "gpuType": "T4"
    },
    "kernelspec": {
      "name": "python3",
      "display_name": "Python 3"
    },
    "language_info": {
      "name": "python"
    },
    "accelerator": "GPU"
  },
  "cells": [
    {
      "cell_type": "code",
      "execution_count": 3,
      "metadata": {
        "colab": {
          "base_uri": "https://localhost:8080/"
        },
        "id": "ggRTCzrbr4Rc",
        "outputId": "99ca5a50-6aee-4822-ea38-8f84415f3abb"
      },
      "outputs": [
        {
          "output_type": "stream",
          "name": "stdout",
          "text": [
            "Epoch 1, Loss: 4.7296\n",
            "Epoch 2, Loss: 4.4947\n",
            "Epoch 3, Loss: 4.3028\n"
          ]
        }
      ],
      "source": [
        "# ==========================\n",
        "# Ví dụ Transformer đơn giản\n",
        "# ==========================\n",
        "\n",
        "import torch\n",
        "import torch.nn as nn\n",
        "import torch.optim as optim\n",
        "from torch.nn import Transformer\n",
        "import math\n",
        "\n",
        "# 1️⃣ Cấu hình\n",
        "device = torch.device(\"cuda\" if torch.cuda.is_available() else \"cpu\")\n",
        "\n",
        "SRC_VOCAB_SIZE = 100  # từ vựng đầu vào\n",
        "TGT_VOCAB_SIZE = 100  # từ vựng đầu ra\n",
        "EMB_SIZE = 64         # kích thước vector nhúng\n",
        "NHEAD = 4             # số \"head\" trong multi-head attention\n",
        "FFN_HID_DIM = 128     # kích thước tầng feed-forward\n",
        "BATCH_SIZE = 8\n",
        "NUM_ENCODER_LAYERS = 2\n",
        "NUM_DECODER_LAYERS = 2\n",
        "\n",
        "# 2️⃣ Định nghĩa mô hình Transformer\n",
        "class TransformerModel(nn.Module):\n",
        "    def __init__(self, src_vocab, tgt_vocab, emb_size, nhead, num_encoder_layers, num_decoder_layers, dim_feedforward):\n",
        "        super().__init__()\n",
        "        self.src_emb = nn.Embedding(src_vocab, emb_size)\n",
        "        self.tgt_emb = nn.Embedding(tgt_vocab, emb_size)\n",
        "        self.pos_encoder = PositionalEncoding(emb_size)\n",
        "        self.transformer = Transformer(\n",
        "            d_model=emb_size,\n",
        "            nhead=nhead,\n",
        "            num_encoder_layers=num_encoder_layers,\n",
        "            num_decoder_layers=num_decoder_layers,\n",
        "            dim_feedforward=dim_feedforward\n",
        "        )\n",
        "        self.fc_out = nn.Linear(emb_size, tgt_vocab)\n",
        "\n",
        "    def forward(self, src, tgt):\n",
        "        src_emb = self.pos_encoder(self.src_emb(src))\n",
        "        tgt_emb = self.pos_encoder(self.tgt_emb(tgt))\n",
        "        output = self.transformer(src_emb, tgt_emb)\n",
        "        return self.fc_out(output)\n",
        "\n",
        "# 3️⃣ Positional Encoding (thêm thông tin vị trí cho từ)\n",
        "class PositionalEncoding(nn.Module):\n",
        "    def __init__(self, emb_size, maxlen=5000):\n",
        "        super().__init__()\n",
        "        pe = torch.zeros(maxlen, emb_size)\n",
        "        position = torch.arange(0, maxlen, dtype=torch.float).unsqueeze(1)\n",
        "        div_term = torch.exp(torch.arange(0, emb_size, 2).float() * (-math.log(10000.0) / emb_size))\n",
        "        pe[:, 0::2] = torch.sin(position * div_term)\n",
        "        pe[:, 1::2] = torch.cos(position * div_term)\n",
        "        pe = pe.unsqueeze(0)\n",
        "        self.register_buffer(\"pe\", pe)\n",
        "\n",
        "    def forward(self, x):\n",
        "        return x + self.pe[:, :x.size(1)]\n",
        "\n",
        "# 4️⃣ Dữ liệu giả lập (batch gồm 8 câu, mỗi câu có 10 token)\n",
        "src = torch.randint(0, SRC_VOCAB_SIZE, (10, BATCH_SIZE)).to(device)\n",
        "tgt = torch.randint(0, TGT_VOCAB_SIZE, (10, BATCH_SIZE)).to(device)\n",
        "tgt_y = torch.randint(0, TGT_VOCAB_SIZE, (10, BATCH_SIZE)).to(device)\n",
        "\n",
        "# 5️⃣ Huấn luyện ngắn minh họa\n",
        "model = TransformerModel(SRC_VOCAB_SIZE, TGT_VOCAB_SIZE, EMB_SIZE, NHEAD, NUM_ENCODER_LAYERS, NUM_DECODER_LAYERS, FFN_HID_DIM).to(device)\n",
        "criterion = nn.CrossEntropyLoss()\n",
        "optimizer = optim.Adam(model.parameters(), lr=0.001)\n",
        "\n",
        "for epoch in range(3):\n",
        "    optimizer.zero_grad()\n",
        "    output = model(src, tgt)\n",
        "    loss = criterion(output.view(-1, TGT_VOCAB_SIZE), tgt_y.view(-1))\n",
        "    loss.backward()\n",
        "    optimizer.step()\n",
        "    print(f\"Epoch {epoch+1}, Loss: {loss.item():.4f}\")\n"
      ]
    }
  ]
}